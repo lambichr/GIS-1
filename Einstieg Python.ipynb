{
 "cells": [
  {
   "cell_type": "markdown",
   "metadata": {},
   "source": [
    "# Einstieg Python"
   ]
  },
  {
   "cell_type": "markdown",
   "metadata": {},
   "source": [
    "## Import der benötigten Module:"
   ]
  },
  {
   "cell_type": "code",
   "execution_count": 1,
   "metadata": {},
   "outputs": [
    {
     "ename": "AttributeError",
     "evalue": "partially initialized module 'fiona' has no attribute '_loading' (most likely due to a circular import)",
     "output_type": "error",
     "traceback": [
      "\u001b[1;31m---------------------------------------------------------------------------\u001b[0m",
      "\u001b[1;31mAttributeError\u001b[0m                            Traceback (most recent call last)",
      "Input \u001b[1;32mIn [1]\u001b[0m, in \u001b[0;36m<module>\u001b[1;34m\u001b[0m\n\u001b[0;32m      1\u001b[0m \u001b[38;5;28;01mimport\u001b[39;00m \u001b[38;5;21;01mgeopandas\u001b[39;00m \u001b[38;5;28;01mas\u001b[39;00m \u001b[38;5;21;01mgp\u001b[39;00m\n\u001b[1;32m----> 2\u001b[0m \u001b[38;5;28;01mimport\u001b[39;00m \u001b[38;5;21;01mcartopy\u001b[39;00m\u001b[38;5;21;01m.\u001b[39;00m\u001b[38;5;21;01mcrs\u001b[39;00m \u001b[38;5;28;01mas\u001b[39;00m \u001b[38;5;21;01mccrs\u001b[39;00m\n\u001b[0;32m      3\u001b[0m \u001b[38;5;28;01mimport\u001b[39;00m \u001b[38;5;21;01mmatplotlib\u001b[39;00m\u001b[38;5;21;01m.\u001b[39;00m\u001b[38;5;21;01mpyplot\u001b[39;00m \u001b[38;5;28;01mas\u001b[39;00m \u001b[38;5;21;01mplt\u001b[39;00m\n\u001b[0;32m      4\u001b[0m \u001b[38;5;28;01mimport\u001b[39;00m \u001b[38;5;21;01mwarnings\u001b[39;00m\n",
      "File \u001b[1;32m~\\Miniconda3\\envs\\jupyter\\lib\\site-packages\\cartopy\\__init__.py:108\u001b[0m, in \u001b[0;36m<module>\u001b[1;34m\u001b[0m\n\u001b[0;32m    105\u001b[0m \u001b[38;5;66;03m# Commonly used sub-modules. Imported here to provide end-user\u001b[39;00m\n\u001b[0;32m    106\u001b[0m \u001b[38;5;66;03m# convenience.\u001b[39;00m\n\u001b[0;32m    107\u001b[0m \u001b[38;5;28;01mimport\u001b[39;00m \u001b[38;5;21;01mcartopy\u001b[39;00m\u001b[38;5;21;01m.\u001b[39;00m\u001b[38;5;21;01mcrs\u001b[39;00m\n\u001b[1;32m--> 108\u001b[0m \u001b[38;5;28;01mimport\u001b[39;00m \u001b[38;5;21;01mcartopy\u001b[39;00m\u001b[38;5;21;01m.\u001b[39;00m\u001b[38;5;21;01mfeature\u001b[39;00m\n",
      "File \u001b[1;32m~\\Miniconda3\\envs\\jupyter\\lib\\site-packages\\cartopy\\feature\\__init__.py:18\u001b[0m, in \u001b[0;36m<module>\u001b[1;34m\u001b[0m\n\u001b[0;32m     15\u001b[0m \u001b[38;5;28;01mimport\u001b[39;00m \u001b[38;5;21;01mnumpy\u001b[39;00m \u001b[38;5;28;01mas\u001b[39;00m \u001b[38;5;21;01mnp\u001b[39;00m\n\u001b[0;32m     16\u001b[0m \u001b[38;5;28;01mimport\u001b[39;00m \u001b[38;5;21;01mshapely\u001b[39;00m\u001b[38;5;21;01m.\u001b[39;00m\u001b[38;5;21;01mgeometry\u001b[39;00m \u001b[38;5;28;01mas\u001b[39;00m \u001b[38;5;21;01msgeom\u001b[39;00m\n\u001b[1;32m---> 18\u001b[0m \u001b[38;5;28;01mimport\u001b[39;00m \u001b[38;5;21;01mcartopy\u001b[39;00m\u001b[38;5;21;01m.\u001b[39;00m\u001b[38;5;21;01mio\u001b[39;00m\u001b[38;5;21;01m.\u001b[39;00m\u001b[38;5;21;01mshapereader\u001b[39;00m \u001b[38;5;28;01mas\u001b[39;00m \u001b[38;5;21;01mshapereader\u001b[39;00m\n\u001b[0;32m     19\u001b[0m \u001b[38;5;28;01mimport\u001b[39;00m \u001b[38;5;21;01mcartopy\u001b[39;00m\u001b[38;5;21;01m.\u001b[39;00m\u001b[38;5;21;01mcrs\u001b[39;00m\n\u001b[0;32m     22\u001b[0m COLORS \u001b[38;5;241m=\u001b[39m {\u001b[38;5;124m'\u001b[39m\u001b[38;5;124mland\u001b[39m\u001b[38;5;124m'\u001b[39m: np\u001b[38;5;241m.\u001b[39marray((\u001b[38;5;241m240\u001b[39m, \u001b[38;5;241m240\u001b[39m, \u001b[38;5;241m220\u001b[39m)) \u001b[38;5;241m/\u001b[39m \u001b[38;5;241m256.\u001b[39m,\n\u001b[0;32m     23\u001b[0m           \u001b[38;5;124m'\u001b[39m\u001b[38;5;124mland_alt1\u001b[39m\u001b[38;5;124m'\u001b[39m: np\u001b[38;5;241m.\u001b[39marray((\u001b[38;5;241m220\u001b[39m, \u001b[38;5;241m220\u001b[39m, \u001b[38;5;241m220\u001b[39m)) \u001b[38;5;241m/\u001b[39m \u001b[38;5;241m256.\u001b[39m,\n\u001b[0;32m     24\u001b[0m           \u001b[38;5;124m'\u001b[39m\u001b[38;5;124mwater\u001b[39m\u001b[38;5;124m'\u001b[39m: np\u001b[38;5;241m.\u001b[39marray((\u001b[38;5;241m152\u001b[39m, \u001b[38;5;241m183\u001b[39m, \u001b[38;5;241m226\u001b[39m)) \u001b[38;5;241m/\u001b[39m \u001b[38;5;241m256.\u001b[39m}\n",
      "File \u001b[1;32m~\\Miniconda3\\envs\\jupyter\\lib\\site-packages\\cartopy\\io\\shapereader.py:43\u001b[0m, in \u001b[0;36m<module>\u001b[1;34m\u001b[0m\n\u001b[0;32m     41\u001b[0m _HAS_FIONA \u001b[38;5;241m=\u001b[39m \u001b[38;5;28;01mFalse\u001b[39;00m\n\u001b[0;32m     42\u001b[0m \u001b[38;5;28;01mtry\u001b[39;00m:\n\u001b[1;32m---> 43\u001b[0m     \u001b[38;5;28;01mimport\u001b[39;00m \u001b[38;5;21;01mfiona\u001b[39;00m\n\u001b[0;32m     44\u001b[0m     _HAS_FIONA \u001b[38;5;241m=\u001b[39m \u001b[38;5;28;01mTrue\u001b[39;00m\n\u001b[0;32m     45\u001b[0m \u001b[38;5;28;01mexcept\u001b[39;00m \u001b[38;5;167;01mImportError\u001b[39;00m:\n",
      "File \u001b[1;32m~\\Miniconda3\\envs\\jupyter\\lib\\site-packages\\fiona\\__init__.py:85\u001b[0m, in \u001b[0;36m<module>\u001b[1;34m\u001b[0m\n\u001b[0;32m     82\u001b[0m     os\u001b[38;5;241m.\u001b[39menviron[\u001b[38;5;124m\"\u001b[39m\u001b[38;5;124mPATH\u001b[39m\u001b[38;5;124m\"\u001b[39m] \u001b[38;5;241m=\u001b[39m os\u001b[38;5;241m.\u001b[39menviron[\u001b[38;5;124m\"\u001b[39m\u001b[38;5;124mPATH\u001b[39m\u001b[38;5;124m\"\u001b[39m] \u001b[38;5;241m+\u001b[39m \u001b[38;5;124m\"\u001b[39m\u001b[38;5;124m;\u001b[39m\u001b[38;5;124m\"\u001b[39m \u001b[38;5;241m+\u001b[39m libdir\n\u001b[0;32m     84\u001b[0m \u001b[38;5;28;01mimport\u001b[39;00m \u001b[38;5;21;01mfiona\u001b[39;00m\u001b[38;5;21;01m.\u001b[39;00m\u001b[38;5;21;01m_loading\u001b[39;00m\n\u001b[1;32m---> 85\u001b[0m \u001b[38;5;28;01mwith\u001b[39;00m \u001b[43mfiona\u001b[49m\u001b[38;5;241;43m.\u001b[39;49m\u001b[43m_loading\u001b[49m\u001b[38;5;241m.\u001b[39madd_gdal_dll_directories():\n\u001b[0;32m     86\u001b[0m     \u001b[38;5;28;01mfrom\u001b[39;00m \u001b[38;5;21;01mfiona\u001b[39;00m\u001b[38;5;21;01m.\u001b[39;00m\u001b[38;5;21;01mcollection\u001b[39;00m \u001b[38;5;28;01mimport\u001b[39;00m BytesCollection, Collection\n\u001b[0;32m     87\u001b[0m     \u001b[38;5;28;01mfrom\u001b[39;00m \u001b[38;5;21;01mfiona\u001b[39;00m\u001b[38;5;21;01m.\u001b[39;00m\u001b[38;5;21;01mdrvsupport\u001b[39;00m \u001b[38;5;28;01mimport\u001b[39;00m supported_drivers\n",
      "\u001b[1;31mAttributeError\u001b[0m: partially initialized module 'fiona' has no attribute '_loading' (most likely due to a circular import)"
     ]
    }
   ],
   "source": [
    "import geopandas as gp\n",
    "import cartopy.crs as ccrs\n",
    "import warnings"
   ]
  },
  {
   "cell_type": "markdown",
   "metadata": {},
   "source": [
    "Warnungen können für's Erste unterdrückt werden"
   ]
  },
  {
   "cell_type": "code",
   "execution_count": null,
   "metadata": {},
   "outputs": [],
   "source": [
    "warnings.filterwarnings('ignore')"
   ]
  },
  {
   "cell_type": "markdown",
   "metadata": {},
   "source": [
    "### Nun laden Sie die Daten, die Bezirksdaten (Geopacke aus dem Seminar) und die Bars (von OpenStreetMap extrahiert) ein"
   ]
  },
  {
   "cell_type": "code",
   "execution_count": null,
   "metadata": {},
   "outputs": [],
   "source": [
    "districts = gp.read_file(\"./data/bezirke_EPSG32633.shp\")\n",
    "bars = gp.read_file(\"./data/bars_bln.gpkg\")"
   ]
  },
  {
   "cell_type": "markdown",
   "metadata": {},
   "source": [
    "Schauen Sie sich den Dataframe des *Bezirke-Layers* einmal an:"
   ]
  },
  {
   "cell_type": "code",
   "execution_count": null,
   "metadata": {},
   "outputs": [],
   "source": [
    "print('Das ist der Bezirke Dataframe.')\n",
    "print(districts)"
   ]
  },
  {
   "cell_type": "markdown",
   "metadata": {},
   "source": [
    "Ebenso die im Geopackage enthaltenen Informationen der Bars, also den *Bars-Layer*"
   ]
  },
  {
   "cell_type": "code",
   "execution_count": null,
   "metadata": {},
   "outputs": [],
   "source": [
    "print('Das ist der Bar Dataframe.')\n",
    "print(bars)"
   ]
  },
  {
   "cell_type": "markdown",
   "metadata": {},
   "source": [
    "...ganz schön viele Informationen, die da von *OpenStreetMap* kommen. Finden Sie heraus, wie viele Zeilen und Spalten der *Dataframe* hat.\n",
    "\n",
    "Um einen besseren Überblick zu bekommen, welche Spalten im *Dataframe* sind (ähnlich zu den Spalten von *Attributtabellen* in *QGIS*), *printen* Sie sich lediglich die Spalten."
   ]
  },
  {
   "cell_type": "code",
   "execution_count": null,
   "metadata": {},
   "outputs": [],
   "source": [
    "print('Das sind alle Spalten des Bar-Dataframes.')\n",
    "print(bars.columns.tolist())"
   ]
  },
  {
   "cell_type": "markdown",
   "metadata": {},
   "source": [
    "Schauen Sie sich die Spaltennamen an.\n",
    "Wie würdet Sie die Datenqualität einschätzen? Wie ist die Datenqualität insgesamt von *OpenStreetMap* ein zu schätzen bzw. von anderen Crowd Sourced Datenwebsiten wie *Wikipedia* oder *WikiMaps* ? Diskutiere mit Ihrem_r Nachbar_in."
   ]
  },
  {
   "cell_type": "markdown",
   "metadata": {},
   "source": [
    "### Spatial Join"
   ]
  },
  {
   "cell_type": "markdown",
   "metadata": {},
   "source": [
    "Nun wollen wir herausfinden, wie viele Bars es pro Bezirk gibt. Dazu führen Sie einen *Spatial Join* aus. Eine visuelle und mathematische Erklärung der verschiedenen Arten von *Spatial Joins* finden Sie [hier](https://en.wikipedia.org/wiki/DE-9IM)\n",
    "In *QGIS* vollzieht man folgenden *Spatial Join* über das Tool *Join Attributes by Location* aus der *Processing Toolbox*.\n",
    "Schau Sie sich an, was die unterschiedlichen Predicates bedeuten (intersects, contains, equals, touches, overlaps, within, crosses)."
   ]
  },
  {
   "cell_type": "code",
   "execution_count": null,
   "metadata": {},
   "outputs": [],
   "source": [
    "districts.sjoin(bars, predicate = 'contains')"
   ]
  },
  {
   "cell_type": "markdown",
   "metadata": {},
   "source": [
    "Das funktioniert nicht.Schauen Sie sich die Fehlermeldung genau an. Was sagt sie? Diskutieren Sie mit Ihre_m Nachbar_in."
   ]
  },
  {
   "cell_type": "markdown",
   "metadata": {},
   "source": [
    "<details>\n",
    "\n",
    "<summary>Antwort - klicken zum ausklappen</summary>\n",
    "Geographische Datensätze haben meißt ein *Coordinate Reference System (CRS)*. Ohne ein *CRS* können räumliche Daten nicht im Raum verortet werden. Da die Daten aus unterschiedlichen Datensquellen kommen (FIS-Broker, dem Datenportal der Stadt Berlin, und OpenStreetMap), liegt es nahe, dass die *CRS* unterschiedlich sind. Hinweis: Nur weil Daten aus derselben Datenquelle kommen, heißt das nicht zwangsläufig, dass Sie das gleiche *CRS* haben. Schauen wir uns einmal die Koordinatensysteme an, in denen die Daten vorliegen.\n",
    "\n",
    "</details>"
   ]
  },
  {
   "cell_type": "code",
   "execution_count": null,
   "metadata": {},
   "outputs": [],
   "source": [
    "print('Das ist das CRS vom Bezirke Layer')\n",
    "print(districts.crs)"
   ]
  },
  {
   "cell_type": "code",
   "execution_count": null,
   "metadata": {},
   "outputs": [],
   "source": [
    "print('Das ist das CRS vom Bars Layer')\n",
    "print(bars.crs)"
   ]
  },
  {
   "cell_type": "markdown",
   "metadata": {},
   "source": [
    "Die CRS sind unterschiedlich.Das sehen Sie auch deutlich, wenn Sie sich die Definition der `geometry`-Spalte angucken."
   ]
  },
  {
   "cell_type": "code",
   "execution_count": null,
   "metadata": {},
   "outputs": [],
   "source": [
    "print('Geometry-Spalte von Bars')\n",
    "print(bars.geometry)"
   ]
  },
  {
   "cell_type": "code",
   "execution_count": null,
   "metadata": {},
   "outputs": [],
   "source": [
    "print('Geometry-Spalte von Bezirke')\n",
    "print(districts.geometry) "
   ]
  },
  {
   "cell_type": "markdown",
   "metadata": {},
   "source": [
    "Sehen Sie, wie unterschiedlich die Zahlen sind? *QGIS* verwaltet die Koordinatensysteme für uns *on-the-fly*.\n",
    "Auch, wenn die Inputdaten unterschiedliche *CRS* haben, transformiert *QGIS* die Inputdaten für uns *on-the-fly* in das *CRS*, welches in der *QGIS-Datei* für das Projekt festgelegt ist.\n",
    "\n",
    "*Geopandas* (und vermutlich jede andere Bibliothek in Python, R,...) vergibt uns unterschiedliche *CRS* nicht so leicht.Damit Sie herausfinden können, welche Punkte (Bars) in welchem Polygon (Bezirke) liegen, müssen Sie die Dateien in das selbe *CRS* bringen.\n",
    "\n",
    "Dazu müssen Sie einen der beiden Dataframes reprojizieren. Hinweis: https://spatialreference.org/ ist eine Datenbank, in der alle gängigen Projektionen abgespeichert sind. Gibst Sie dort den EPSG Code (EPSG:32633) des Bezirke Layers ein, erhalten Sie Informationen rund um dieses Koordinatensystem. Es gibt auch noch Websiten wie http://mapref.org/. Unter http://mapref.org/CollectionofCRSinEurope.html werden beispielseweise alle Europäischen CRS gesammelt."
   ]
  },
  {
   "cell_type": "code",
   "execution_count": null,
   "metadata": {},
   "outputs": [],
   "source": [
    "bars = bars.to_crs(districts.crs)"
   ]
  },
  {
   "cell_type": "markdown",
   "metadata": {},
   "source": [
    "Nun haben Sie die Daten reprojiziert und Sie können den Spatial Join ausführen. *Geopandas* hat noch eine weitere Methode, `.set_crs()` (https://geopandas.org/en/stable/docs/reference/api/geopandas.GeoDataFrame.set_crs.html). Versuchen Sie anhand der Dokumentation den Unterschied zu der Methode `to_crs()` sich zu erklären (https://geopandas.org/en/stable/docs/reference/api/geopandas.GeoDataFrame.to_crs.html?highlight=to_crs)"
   ]
  },
  {
   "cell_type": "markdown",
   "metadata": {},
   "source": [
    "<details>\n",
    "\n",
    "<summary>Antwort - klicken zum ausklappen</summary>\n",
    "<code>.set_crs()</code> <b>transformiert</b> die geographischen Daten in ein <b>neues</b> <i>CRS</i>. Die ist eine mathemathische Operation und wird durch eine wohldefinierte Transformationsfunktion vorgenommen. <code>.to_crs()</code> ändert dagegen lediglich die Definition des <i>CRS</i> in ein anderes, ohne die Koordinaten zu transformieren. Die Definition eines *CRS* kann beispielsweise folgenderweise aussehen (EPSG: 25833): <code>+proj=utm +zone=33 +ellps=GRS80 +towgs84=0,0,0,0,0,0,0 +units=m +no_defs</code> Ich könnte diesen Text einfach durch einen anderen ersetzen (EPSG: 25832): <code> +proj=utm +zone=32 +ellps=GRS80 +towgs84=0,0,0,0,0,0,0 +units=m +no_defs</code>. Für den Computer liegen die Koordinaten nun in <code>25833</code> vor, sie wurden jedoch nicht transformiert. Somit wäre unsere Datengrundlage fehlerhaft, die Daten würden nicht an ihrem eigentlichen Ort auf der Welt verortet werden.\n",
    "\n",
    "</details>"
   ]
  },
  {
   "cell_type": "code",
   "execution_count": null,
   "metadata": {},
   "outputs": [],
   "source": [
    "barsInDistrict = districts.sjoin(bars, predicate = 'contains')"
   ]
  },
  {
   "cell_type": "markdown",
   "metadata": {},
   "source": [
    "Wollen Sie zählen, wie viele Bars es pro Bezirk gibt, müssen Sie folgende Zeile Code ausführen"
   ]
  },
  {
   "cell_type": "code",
   "execution_count": null,
   "metadata": {},
   "outputs": [],
   "source": [
    "barsInDistrict.groupby('BEZIRK_NAM').size().rename('count')"
   ]
  },
  {
   "cell_type": "markdown",
   "metadata": {},
   "source": [
    "Das war eine kleine Einführung in Programmierung mit Python. Wenn Sie Lust haben, tiefer in Python und geographische Methoden in Python ein zu steigen, kommen Sie in den Kurs Forgeschrittene Methoden der Geoinformationsverarbeitung nächstes Semester. Vielen Dank!"
   ]
  }
 ],
 "metadata": {
  "kernelspec": {
   "display_name": "Python 3 (ipykernel)",
   "language": "python",
   "name": "python3"
  },
  "language_info": {
   "codemirror_mode": {
    "name": "ipython",
    "version": 3
   },
   "file_extension": ".py",
   "mimetype": "text/x-python",
   "name": "python",
   "nbconvert_exporter": "python",
   "pygments_lexer": "ipython3",
   "version": "3.10.2"
  }
 },
 "nbformat": 4,
 "nbformat_minor": 4
}
